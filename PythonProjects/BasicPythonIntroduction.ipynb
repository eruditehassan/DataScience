{
 "cells": [
  {
   "cell_type": "markdown",
   "metadata": {},
   "source": [
    "# Problem 1\n",
    "\n",
    "Compute the five smallest positive even numbers.  Provide these in a list.\n",
    "\n",
    "In this case, the answer is a fixed value, so you may compute (or hard-code) the answer and submit it.\n",
    "Note that we have provided a \"dummy solution\" below. This dummy solution illustrates the correct format of the solution (i.e. a list of 5 numbers). If you are encountering an error when you try to submit a solution to the grader, double check that your answer has the same structure as the dummy solution."
   ]
  },
  {
   "cell_type": "code",
   "execution_count": 6,
   "metadata": {},
   "outputs": [],
   "source": [
    "even_numbers = []\n",
    "for i in range(1,11):\n",
    "    if i%2==0:\n",
    "        even_numbers.append(i)"
   ]
  },
  {
   "cell_type": "markdown",
   "metadata": {},
   "source": [
    "# Problem 2\n",
    "\n",
    "Define a function that accepts a list (called `numbers` below) as input and return a list where each element is multiplied by 10. The grader will supply the argument `numbers` to the function when you run the `grader.score.in__problem2` method below.\n",
    "\n",
    "In this case, you need to write a function that will work for arbitrary input.\n",
    "Before submitting your function to the grader, you may want to check that it returns the output that you expect by evaluating code similar to the following:\n",
    "\n",
    "```python\n",
    "\n",
    "test_numbers = [1, 2, 3]\n",
    "mult(test_numbers)\n",
    "```"
   ]
  },
  {
   "cell_type": "code",
   "execution_count": 21,
   "metadata": {},
   "outputs": [],
   "source": [
    "def mult(numbers):\n",
    "    result = []\n",
    "    for i in numbers:\n",
    "        result.append(i*10)\n",
    "    return result    "
   ]
  }
 ],
 "metadata": {
  "kernelspec": {
   "display_name": "Python 3",
   "language": "python",
   "name": "python3"
  },
  "language_info": {
   "codemirror_mode": {
    "name": "ipython",
    "version": 3
   },
   "file_extension": ".py",
   "mimetype": "text/x-python",
   "name": "python",
   "nbconvert_exporter": "python",
   "pygments_lexer": "ipython3",
   "version": "3.7.3"
  },
  "nbclean": true
 },
 "nbformat": 4,
 "nbformat_minor": 1
}
