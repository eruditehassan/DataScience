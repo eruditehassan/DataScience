{
 "cells": [
  {
   "cell_type": "markdown",
   "metadata": {},
   "source": [
    "# DW Miniproject\n",
    "## Introduction\n",
    "\n",
    "The objective of this miniproject is to exercise your ability to wrangle tabular data set and aggregate large data sets into meaningful summary statistics. We will be working with the same medical data used in the `pw` miniproject, but will be leveraging the power of Pandas to more efficiently represent and act on our data."
   ]
  },
  {
   "cell_type": "markdown",
   "metadata": {},
   "source": [
    "## Downloading the data\n",
    "\n",
    "We first need to download the data we'll be using from Amazon S3:"
   ]
  },
  {
   "cell_type": "code",
   "execution_count": null,
   "metadata": {},
   "outputs": [],
   "source": [
    "!mkdir dw-data\n",
    "!wget http://dataincubator-wqu.s3.amazonaws.com/dwdata/201701scripts_sample.csv.gz -nc -P ./dw-data/\n",
    "!wget http://dataincubator-wqu.s3.amazonaws.com/dwdata/201606scripts_sample.csv.gz -nc -P ./dw-data/\n",
    "!wget http://dataincubator-wqu.s3.amazonaws.com/dwdata/practices.csv.gz -nc -P ./dw-data/\n",
    "!wget http://dataincubator-wqu.s3.amazonaws.com/dwdata/chem.csv.gz -nc -P ./dw-data/"
   ]
  },
  {
   "cell_type": "markdown",
   "metadata": {},
   "source": [
    "## Loading the data\n",
    "\n",
    "Similar to the `PW` miniproject, the first step is to read in the data. The data files are stored as compressed CSV files. You can load the data into a Pandas DataFrame by making use of the `gzip` package to decompress the files and Panda's `read_csv` methods to parse the data into a DataFrame. You may want to check the Pandas documentation for parsing [CSV](http://pandas.pydata.org/pandas-docs/stable/generated/pandas.read_csv.html) files for reference.\n",
    "\n",
    "For a description of the data set please, refer to the [PW miniproject](./pw.ipynb). **Note that all questions make use of the 2017 data only, except for Question 5 which makes use of both the 2017 and 2016 data.**"
   ]
  },
  {
   "cell_type": "code",
   "execution_count": 3,
   "metadata": {},
   "outputs": [],
   "source": [
    "import pandas as pd\n",
    "import numpy as np\n",
    "import gzip"
   ]
  },
  {
   "cell_type": "code",
   "execution_count": 4,
   "metadata": {},
   "outputs": [
    {
     "data": {
      "text/html": [
       "<div>\n",
       "<style>\n",
       "    .dataframe thead tr:only-child th {\n",
       "        text-align: right;\n",
       "    }\n",
       "\n",
       "    .dataframe thead th {\n",
       "        text-align: left;\n",
       "    }\n",
       "\n",
       "    .dataframe tbody tr th {\n",
       "        vertical-align: top;\n",
       "    }\n",
       "</style>\n",
       "<table border=\"1\" class=\"dataframe\">\n",
       "  <thead>\n",
       "    <tr style=\"text-align: right;\">\n",
       "      <th></th>\n",
       "      <th>practice</th>\n",
       "      <th>bnf_code</th>\n",
       "      <th>bnf_name</th>\n",
       "      <th>items</th>\n",
       "      <th>nic</th>\n",
       "      <th>act_cost</th>\n",
       "      <th>quantity</th>\n",
       "    </tr>\n",
       "  </thead>\n",
       "  <tbody>\n",
       "    <tr>\n",
       "      <th>0</th>\n",
       "      <td>N85639</td>\n",
       "      <td>0106020C0</td>\n",
       "      <td>Bisacodyl_Tab E/C 5mg</td>\n",
       "      <td>1</td>\n",
       "      <td>0.39</td>\n",
       "      <td>0.47</td>\n",
       "      <td>12</td>\n",
       "    </tr>\n",
       "    <tr>\n",
       "      <th>1</th>\n",
       "      <td>N85639</td>\n",
       "      <td>0106040M0</td>\n",
       "      <td>Movicol Plain_Paed Pdr Sach 6.9g</td>\n",
       "      <td>1</td>\n",
       "      <td>4.38</td>\n",
       "      <td>4.07</td>\n",
       "      <td>30</td>\n",
       "    </tr>\n",
       "    <tr>\n",
       "      <th>2</th>\n",
       "      <td>N85639</td>\n",
       "      <td>0301011R0</td>\n",
       "      <td>Salbutamol_Inha 100mcg (200 D) CFF</td>\n",
       "      <td>1</td>\n",
       "      <td>1.50</td>\n",
       "      <td>1.40</td>\n",
       "      <td>1</td>\n",
       "    </tr>\n",
       "    <tr>\n",
       "      <th>3</th>\n",
       "      <td>N85639</td>\n",
       "      <td>0304010G0</td>\n",
       "      <td>Chlorphenamine Mal_Oral Soln 2mg/5ml</td>\n",
       "      <td>1</td>\n",
       "      <td>2.62</td>\n",
       "      <td>2.44</td>\n",
       "      <td>150</td>\n",
       "    </tr>\n",
       "    <tr>\n",
       "      <th>4</th>\n",
       "      <td>N85639</td>\n",
       "      <td>0401020K0</td>\n",
       "      <td>Diazepam_Tab 2mg</td>\n",
       "      <td>1</td>\n",
       "      <td>0.16</td>\n",
       "      <td>0.26</td>\n",
       "      <td>6</td>\n",
       "    </tr>\n",
       "  </tbody>\n",
       "</table>\n",
       "</div>"
      ],
      "text/plain": [
       "  practice   bnf_code                              bnf_name  items   nic  \\\n",
       "0   N85639  0106020C0                 Bisacodyl_Tab E/C 5mg      1  0.39   \n",
       "1   N85639  0106040M0      Movicol Plain_Paed Pdr Sach 6.9g      1  4.38   \n",
       "2   N85639  0301011R0    Salbutamol_Inha 100mcg (200 D) CFF      1  1.50   \n",
       "3   N85639  0304010G0  Chlorphenamine Mal_Oral Soln 2mg/5ml      1  2.62   \n",
       "4   N85639  0401020K0                      Diazepam_Tab 2mg      1  0.16   \n",
       "\n",
       "   act_cost  quantity  \n",
       "0      0.47        12  \n",
       "1      4.07        30  \n",
       "2      1.40         1  \n",
       "3      2.44       150  \n",
       "4      0.26         6  "
      ]
     },
     "execution_count": 4,
     "metadata": {},
     "output_type": "execute_result"
    }
   ],
   "source": [
    "# load the 2017 data\n",
    "\n",
    "scripts = pd.read_csv(\"./dw-data/201701scripts_sample.csv.gz\",compression='gzip')\n",
    "scripts.head()"
   ]
  },
  {
   "cell_type": "code",
   "execution_count": 5,
   "metadata": {},
   "outputs": [
    {
     "data": {
      "text/html": [
       "<div>\n",
       "<style>\n",
       "    .dataframe thead tr:only-child th {\n",
       "        text-align: right;\n",
       "    }\n",
       "\n",
       "    .dataframe thead th {\n",
       "        text-align: left;\n",
       "    }\n",
       "\n",
       "    .dataframe tbody tr th {\n",
       "        vertical-align: top;\n",
       "    }\n",
       "</style>\n",
       "<table border=\"1\" class=\"dataframe\">\n",
       "  <thead>\n",
       "    <tr style=\"text-align: right;\">\n",
       "      <th></th>\n",
       "      <th>code</th>\n",
       "      <th>name</th>\n",
       "      <th>addr_1</th>\n",
       "      <th>addr_2</th>\n",
       "      <th>borough</th>\n",
       "      <th>village</th>\n",
       "      <th>post_code</th>\n",
       "    </tr>\n",
       "  </thead>\n",
       "  <tbody>\n",
       "    <tr>\n",
       "      <th>0</th>\n",
       "      <td>A81002</td>\n",
       "      <td>QUEENS PARK MEDICAL CENTRE</td>\n",
       "      <td>QUEENS PARK MEDICAL CTR</td>\n",
       "      <td>FARRER STREET</td>\n",
       "      <td>STOCKTON ON TEES</td>\n",
       "      <td>CLEVELAND</td>\n",
       "      <td>TS18 2AW</td>\n",
       "    </tr>\n",
       "    <tr>\n",
       "      <th>1</th>\n",
       "      <td>A81003</td>\n",
       "      <td>VICTORIA MEDICAL PRACTICE</td>\n",
       "      <td>THE HEALTH CENTRE</td>\n",
       "      <td>VICTORIA ROAD</td>\n",
       "      <td>HARTLEPOOL</td>\n",
       "      <td>CLEVELAND</td>\n",
       "      <td>TS26 8DB</td>\n",
       "    </tr>\n",
       "    <tr>\n",
       "      <th>2</th>\n",
       "      <td>A81004</td>\n",
       "      <td>WOODLANDS ROAD SURGERY</td>\n",
       "      <td>6 WOODLANDS ROAD</td>\n",
       "      <td>NaN</td>\n",
       "      <td>MIDDLESBROUGH</td>\n",
       "      <td>CLEVELAND</td>\n",
       "      <td>TS1 3BE</td>\n",
       "    </tr>\n",
       "    <tr>\n",
       "      <th>3</th>\n",
       "      <td>A81005</td>\n",
       "      <td>SPRINGWOOD SURGERY</td>\n",
       "      <td>SPRINGWOOD SURGERY</td>\n",
       "      <td>RECTORY LANE</td>\n",
       "      <td>GUISBOROUGH</td>\n",
       "      <td>NaN</td>\n",
       "      <td>TS14 7DJ</td>\n",
       "    </tr>\n",
       "    <tr>\n",
       "      <th>4</th>\n",
       "      <td>A81006</td>\n",
       "      <td>TENNANT STREET MEDICAL PRACTICE</td>\n",
       "      <td>TENNANT ST MED PRACT</td>\n",
       "      <td>FARRER STREET</td>\n",
       "      <td>STOCKTON ON TEES</td>\n",
       "      <td>CLEVELAND</td>\n",
       "      <td>TS18 2AT</td>\n",
       "    </tr>\n",
       "  </tbody>\n",
       "</table>\n",
       "</div>"
      ],
      "text/plain": [
       "     code                             name                   addr_1  \\\n",
       "0  A81002       QUEENS PARK MEDICAL CENTRE  QUEENS PARK MEDICAL CTR   \n",
       "1  A81003        VICTORIA MEDICAL PRACTICE        THE HEALTH CENTRE   \n",
       "2  A81004           WOODLANDS ROAD SURGERY         6 WOODLANDS ROAD   \n",
       "3  A81005               SPRINGWOOD SURGERY       SPRINGWOOD SURGERY   \n",
       "4  A81006  TENNANT STREET MEDICAL PRACTICE     TENNANT ST MED PRACT   \n",
       "\n",
       "          addr_2           borough    village post_code  \n",
       "0  FARRER STREET  STOCKTON ON TEES  CLEVELAND  TS18 2AW  \n",
       "1  VICTORIA ROAD        HARTLEPOOL  CLEVELAND  TS26 8DB  \n",
       "2            NaN     MIDDLESBROUGH  CLEVELAND   TS1 3BE  \n",
       "3   RECTORY LANE       GUISBOROUGH        NaN  TS14 7DJ  \n",
       "4  FARRER STREET  STOCKTON ON TEES  CLEVELAND  TS18 2AT  "
      ]
     },
     "execution_count": 5,
     "metadata": {},
     "output_type": "execute_result"
    }
   ],
   "source": [
    "col_names=[ 'code', 'name', 'addr_1', 'addr_2', 'borough', 'village', 'post_code']\n",
    "practices = pd.read_csv('./dw-data/practices.csv.gz',compression='gzip')\n",
    "practices.columns=col_names\n",
    "practices.head()"
   ]
  },
  {
   "cell_type": "code",
   "execution_count": 6,
   "metadata": {},
   "outputs": [
    {
     "data": {
      "text/html": [
       "<div>\n",
       "<style>\n",
       "    .dataframe thead tr:only-child th {\n",
       "        text-align: right;\n",
       "    }\n",
       "\n",
       "    .dataframe thead th {\n",
       "        text-align: left;\n",
       "    }\n",
       "\n",
       "    .dataframe tbody tr th {\n",
       "        vertical-align: top;\n",
       "    }\n",
       "</style>\n",
       "<table border=\"1\" class=\"dataframe\">\n",
       "  <thead>\n",
       "    <tr style=\"text-align: right;\">\n",
       "      <th></th>\n",
       "      <th>CHEM SUB</th>\n",
       "      <th>NAME</th>\n",
       "    </tr>\n",
       "  </thead>\n",
       "  <tbody>\n",
       "    <tr>\n",
       "      <th>0</th>\n",
       "      <td>0101010A0</td>\n",
       "      <td>Alexitol Sodium</td>\n",
       "    </tr>\n",
       "    <tr>\n",
       "      <th>1</th>\n",
       "      <td>0101010B0</td>\n",
       "      <td>Almasilate</td>\n",
       "    </tr>\n",
       "    <tr>\n",
       "      <th>2</th>\n",
       "      <td>0101010C0</td>\n",
       "      <td>Aluminium Hydroxide</td>\n",
       "    </tr>\n",
       "    <tr>\n",
       "      <th>3</th>\n",
       "      <td>0101010D0</td>\n",
       "      <td>Aluminium Hydroxide With Magnesium</td>\n",
       "    </tr>\n",
       "    <tr>\n",
       "      <th>4</th>\n",
       "      <td>0101010E0</td>\n",
       "      <td>Hydrotalcite</td>\n",
       "    </tr>\n",
       "  </tbody>\n",
       "</table>\n",
       "</div>"
      ],
      "text/plain": [
       "    CHEM SUB                                NAME\n",
       "0  0101010A0                     Alexitol Sodium\n",
       "1  0101010B0                          Almasilate\n",
       "2  0101010C0                 Aluminium Hydroxide\n",
       "3  0101010D0  Aluminium Hydroxide With Magnesium\n",
       "4  0101010E0                        Hydrotalcite"
      ]
     },
     "execution_count": 6,
     "metadata": {},
     "output_type": "execute_result"
    }
   ],
   "source": [
    "chem = pd.read_csv('./dw-data/chem.csv.gz',compression='gzip')\n",
    "chem.head()"
   ]
  },
  {
   "cell_type": "markdown",
   "metadata": {},
   "source": [
    "Now that we've loaded in the data, let's first replicate our results from the `PW` miniproject. Note that we are now working with a larger data set so the answers will be different than in the `PW` miniproject even if the analysis is the same."
   ]
  },
  {
   "cell_type": "markdown",
   "metadata": {},
   "source": [
    "## Question 1: summary_statistics\n",
    "\n",
    "In the `PW` miniproject we first calculated the total, mean, standard deviation, and quartile statistics of the `'items'`, `'quantity'`', `'nic'`, and `'act_cost'` fields. To do this we had to write some functions to calculate the statistics and apply the functions to our data structure. The DataFrame has a `describe` method that will calculate most (not all) of these things for us.\n",
    "\n",
    "Submit the summary statistics to the grader as a list of tuples: [('act_cost', (total, mean, std, q25, median, q75)), ...]"
   ]
  },
  {
   "cell_type": "code",
   "execution_count": 13,
   "metadata": {
    "scrolled": true
   },
   "outputs": [
    {
     "data": {
      "text/html": [
       "<div>\n",
       "<style>\n",
       "    .dataframe thead tr:only-child th {\n",
       "        text-align: right;\n",
       "    }\n",
       "\n",
       "    .dataframe thead th {\n",
       "        text-align: left;\n",
       "    }\n",
       "\n",
       "    .dataframe tbody tr th {\n",
       "        vertical-align: top;\n",
       "    }\n",
       "</style>\n",
       "<table border=\"1\" class=\"dataframe\">\n",
       "  <thead>\n",
       "    <tr style=\"text-align: right;\">\n",
       "      <th></th>\n",
       "      <th>items</th>\n",
       "      <th>nic</th>\n",
       "      <th>act_cost</th>\n",
       "      <th>quantity</th>\n",
       "    </tr>\n",
       "  </thead>\n",
       "  <tbody>\n",
       "    <tr>\n",
       "      <th>count</th>\n",
       "      <td>973193.000000</td>\n",
       "      <td>973193.000000</td>\n",
       "      <td>973193.000000</td>\n",
       "      <td>973193.000000</td>\n",
       "    </tr>\n",
       "    <tr>\n",
       "      <th>mean</th>\n",
       "      <td>9.133136</td>\n",
       "      <td>73.058915</td>\n",
       "      <td>67.986613</td>\n",
       "      <td>741.329835</td>\n",
       "    </tr>\n",
       "    <tr>\n",
       "      <th>std</th>\n",
       "      <td>29.204198</td>\n",
       "      <td>188.070257</td>\n",
       "      <td>174.401703</td>\n",
       "      <td>3665.426958</td>\n",
       "    </tr>\n",
       "    <tr>\n",
       "      <th>25%</th>\n",
       "      <td>1.000000</td>\n",
       "      <td>7.800000</td>\n",
       "      <td>7.330000</td>\n",
       "      <td>28.000000</td>\n",
       "    </tr>\n",
       "    <tr>\n",
       "      <th>50%</th>\n",
       "      <td>2.000000</td>\n",
       "      <td>22.640000</td>\n",
       "      <td>21.220000</td>\n",
       "      <td>100.000000</td>\n",
       "    </tr>\n",
       "    <tr>\n",
       "      <th>75%</th>\n",
       "      <td>6.000000</td>\n",
       "      <td>65.000000</td>\n",
       "      <td>60.670000</td>\n",
       "      <td>350.000000</td>\n",
       "    </tr>\n",
       "  </tbody>\n",
       "</table>\n",
       "</div>"
      ],
      "text/plain": [
       "               items            nic       act_cost       quantity\n",
       "count  973193.000000  973193.000000  973193.000000  973193.000000\n",
       "mean        9.133136      73.058915      67.986613     741.329835\n",
       "std        29.204198     188.070257     174.401703    3665.426958\n",
       "25%         1.000000       7.800000       7.330000      28.000000\n",
       "50%         2.000000      22.640000      21.220000     100.000000\n",
       "75%         6.000000      65.000000      60.670000     350.000000"
      ]
     },
     "execution_count": 13,
     "metadata": {},
     "output_type": "execute_result"
    }
   ],
   "source": [
    "describe = scripts.describe()\n",
    "describe = describe.drop('min')\n",
    "describe = describe.drop('max')\n",
    "describe\n"
   ]
  },
  {
   "cell_type": "code",
   "execution_count": 99,
   "metadata": {},
   "outputs": [
    {
     "data": {
      "text/plain": [
       "((), ())"
      ]
     },
     "execution_count": 99,
     "metadata": {},
     "output_type": "execute_result"
    }
   ],
   "source": [
    "describe[describe.columns[1]][5]\n",
    "a[1] = a[1] + ((),)\n",
    "a[1]"
   ]
  },
  {
   "cell_type": "code",
   "execution_count": 92,
   "metadata": {},
   "outputs": [
    {
     "data": {
      "text/plain": [
       "[('items', ()), ('nic', ()), ('act_cost', ()), ('quantity', ())]"
      ]
     },
     "execution_count": 92,
     "metadata": {},
     "output_type": "execute_result"
    }
   ],
   "source": [
    "a = []\n",
    "for i in describe.columns:\n",
    "    a.append((i,)+((),))\n",
    "#a[0]+((1,),)\n",
    "a[1]+(())\n",
    "for i in range(len(describe.index)):\n",
    "    for j in range(len(describe.columns)):\n",
    "        col_name = describe.columns[j]\n",
    "        a[j] = a[j][1] + (describe[col_name][i],)\n",
    "a"
   ]
  },
  {
   "cell_type": "code",
   "execution_count": 49,
   "metadata": {},
   "outputs": [
    {
     "name": "stdout",
     "output_type": "stream",
     "text": [
      "[('items', ()), ('nic', ()), ('act_cost', ()), ('quantity', ())]\n"
     ]
    }
   ],
   "source": [
    "desc = scripts.describe()\n",
    "#desc = describe.drop('min')\n",
    "#desc = describe.drop('max')\n",
    "cols = desc.columns\n",
    "summary_stats = []\n",
    "for i in cols:\n",
    "    summary_stats.append((i,()))\n",
    "#print(summary_stats)    \n",
    "for j in range(len(cols)):\n",
    "    for i in range(len(desc)):\n",
    "        summary_stats[j][1]+(desc[cols[j]][i],)\n",
    "print(summary_stats)\n",
    "        \n",
    "        \n",
    "        \n",
    "\n"
   ]
  },
  {
   "cell_type": "code",
   "execution_count": 50,
   "metadata": {},
   "outputs": [
    {
     "name": "stdout",
     "output_type": "stream",
     "text": [
      "[('items', (973193.0, 9.133135976111625, 29.204198282803603, 1.0, 1.0, 2.0)), ('nic', (973193.0, 73.05891517920908, 188.070256906825, 0.0, 7.8, 22.64)), ('act_cost', (973193.0, 67.98661326170655, 174.40170332301963, 0.04, 7.33, 21.22)), ('quantity', (973193.0, 741.3298348837282, 3665.426958467915, 0.0, 28.0, 100.0))]\n"
     ]
    }
   ],
   "source": [
    "def ss_func(dataf,col):\n",
    "    ss = []\n",
    "    for i in col:\n",
    "        ss.append((i,(dataf[i][0],dataf[i][1],dataf[i][2],dataf[i][3],dataf[i][4],dataf[i][5])))\n",
    "    return ss\n",
    "print(ss_func(desc,cols))\n",
    "    "
   ]
  },
  {
   "cell_type": "code",
   "execution_count": null,
   "metadata": {},
   "outputs": [],
   "source": [
    "summary_stats = [('items', (desc['items'][0],desc['items'][1],desc['items'][2],desc['items'][3],desc['items'][4],desc['items'][5])), ('quantity', (z,) * 6), ('nic', (0,) * 6), ('act_cost', (0,) * 6)]"
   ]
  },
  {
   "cell_type": "code",
   "execution_count": null,
   "metadata": {},
   "outputs": [],
   "source": [
    "summary_stats = [('items', (desc['items'][0],desc['items'][1],desc['items'][2],desc['items'][3],desc['items'][4],\n",
    "                            desc['items'][5])), ('quantity', (desc['quantity'][0],desc['quantity'][1],desc['quantity'][2],desc['quantity'][3],desc['quantity'][4],desc['quantity'][5])), ('nic', (0,) * 6), ('act_cost', (0,) * 6)]"
   ]
  },
  {
   "cell_type": "code",
   "execution_count": null,
   "metadata": {},
   "outputs": [],
   "source": [
    "summary_stats = summary_stats = ss_func(desc,cols)"
   ]
  },
  {
   "cell_type": "code",
   "execution_count": 56,
   "metadata": {},
   "outputs": [
    {
     "name": "stdout",
     "output_type": "stream",
     "text": [
      "(973193.0,) is too short\n",
      "\n",
      "Failed validating 'minItems' in schema['items']['items'][1]:\n",
      "    {'items': {'type': 'number'},\n",
      "     'maxItems': 6,\n",
      "     'minItems': 6,\n",
      "     'type': 'array'}\n",
      "\n",
      "On instance[0][1]:\n",
      "    (973193.0,)\n"
     ]
    }
   ],
   "source": [
    "grader.score.dw__summary_statistics(summary_stats)"
   ]
  },
  {
   "cell_type": "markdown",
   "metadata": {},
   "source": [
    "## Question 2: most_common_item\n",
    "\n",
    "We can also easily compute summary statistics on groups within the data. In the `pw` miniproject we had to explicitly construct the groups based on the values of a particular field. Pandas will handle that for us via the `groupby` method. This process is [detailed in the Pandas documentation](https://pandas.pydata.org/pandas-docs/stable/groupby.html).\n",
    "\n",
    "Use `groupby` to calculate the total number of items dispensed for each `'bnf_name'`. Find the item with the highest total and return the result as `[(bnf_name, total)]`."
   ]
  },
  {
   "cell_type": "code",
   "execution_count": null,
   "metadata": {},
   "outputs": [],
   "source": [
    "scripts.head()"
   ]
  },
  {
   "cell_type": "code",
   "execution_count": null,
   "metadata": {},
   "outputs": [],
   "source": [
    "#scripts['bnf_name'].unique()[0]\n",
    "grouped = scripts.groupby('bnf_name')['items']\n",
    "key_list = []\n",
    "for i in grouped.groups.keys():\n",
    "    key_list.append(i)\n",
    "grouped_sum = grouped.sum()    \n",
    "print(grouped_sum.head())"
   ]
  },
  {
   "cell_type": "code",
   "execution_count": null,
   "metadata": {},
   "outputs": [],
   "source": [
    "#Iniial attemp which is wrong but could be useful\n",
    "most_common_item = []\n",
    "for i in range(len(key_list)):\n",
    "    most_common_item.append((key_list[i],grouped_sum[key_list[i]]))\n",
    "print(most_common_item)"
   ]
  },
  {
   "cell_type": "code",
   "execution_count": null,
   "metadata": {},
   "outputs": [],
   "source": [
    "grouped_sum.idxmax()"
   ]
  },
  {
   "cell_type": "code",
   "execution_count": null,
   "metadata": {},
   "outputs": [],
   "source": [
    "most_common_item = [(grouped_sum.idxmax(), grouped_sum.max())]"
   ]
  },
  {
   "cell_type": "code",
   "execution_count": null,
   "metadata": {},
   "outputs": [],
   "source": [
    "grader.score.dw__most_common_item(most_common_item)"
   ]
  },
  {
   "cell_type": "markdown",
   "metadata": {},
   "source": [
    "## Question 3: items_by_region\n",
    "\n",
    "Now let's find the most common item by post code. The post code information is in the `practices` DataFrame, and we'll need to `merge` it into the `scripts` DataFrame. Pandas provides [extensive documentation](https://pandas.pydata.org/pandas-docs/stable/merging.html) with diagrammed examples on different methods and approaches for joining data. The `merge` method is only one of many possible options.\n",
    "\n",
    "Return your results as a list of tuples `(post code, item name, amount dispensed as % of total)`. Sort your results ascending alphabetically by post code and take only results from the first 100 post codes.\n",
    "\n",
    "**NOTE:** Some practices have multiple postal codes associated with them. Use the alphabetically first postal code. Note some postal codes may have multiple `'bnf_name'` with the same prescription rate for the maximum. In this case, take the alphabetically first `'bnf_name'` (as in the PW miniproject)."
   ]
  },
  {
   "cell_type": "code",
   "execution_count": 77,
   "metadata": {},
   "outputs": [],
   "source": [
    "#Some else's code just to check\n",
    "unique_practices = practices.sort_values('post_code').groupby('code').first().reset_index()\n",
    "joined = scripts.merge(unique_practices[['code','post_code']],how ='left', left_on='practice',right_on='code')\n",
    "p_i_total = joined.groupby(['post_code','bnf_name'])['items'].sum().reset_index()"
   ]
  },
  {
   "cell_type": "code",
   "execution_count": null,
   "metadata": {},
   "outputs": [],
   "source": [
    "max_ids = p_i_total.groupby('post_code')['items'].idxmax()\n",
    "max_item_values = p_i_total.loc[max_ids].sort_values('post_code')\n",
    "max_items_values = max_item_values[:100]\n",
    "item_totals = p_i_total.groupby('post_code').sum().reset_index()\n",
    "item_totals.head()"
   ]
  },
  {
   "cell_type": "code",
   "execution_count": null,
   "metadata": {},
   "outputs": [],
   "source": [
    "merged_results = max_items_values.merge(item_totals,on='post_code')\n",
    "merged_results.head()"
   ]
  },
  {
   "cell_type": "code",
   "execution_count": null,
   "metadata": {},
   "outputs": [],
   "source": [
    "results = list(zip(merged_results.post_code,merged_results.bnf_name,merged_results.items_x/merged_results.items_y))"
   ]
  },
  {
   "cell_type": "code",
   "execution_count": null,
   "metadata": {},
   "outputs": [],
   "source": []
  },
  {
   "cell_type": "code",
   "execution_count": null,
   "metadata": {},
   "outputs": [],
   "source": []
  },
  {
   "cell_type": "code",
   "execution_count": null,
   "metadata": {},
   "outputs": [],
   "source": []
  },
  {
   "cell_type": "code",
   "execution_count": null,
   "metadata": {},
   "outputs": [],
   "source": [
    "\n"
   ]
  },
  {
   "cell_type": "code",
   "execution_count": null,
   "metadata": {},
   "outputs": [],
   "source": []
  },
  {
   "cell_type": "code",
   "execution_count": null,
   "metadata": {},
   "outputs": [],
   "source": []
  },
  {
   "cell_type": "code",
   "execution_count": null,
   "metadata": {},
   "outputs": [],
   "source": []
  },
  {
   "cell_type": "code",
   "execution_count": null,
   "metadata": {},
   "outputs": [],
   "source": []
  },
  {
   "cell_type": "code",
   "execution_count": null,
   "metadata": {},
   "outputs": [],
   "source": []
  },
  {
   "cell_type": "code",
   "execution_count": null,
   "metadata": {},
   "outputs": [],
   "source": []
  },
  {
   "cell_type": "code",
   "execution_count": null,
   "metadata": {},
   "outputs": [],
   "source": []
  },
  {
   "cell_type": "code",
   "execution_count": null,
   "metadata": {},
   "outputs": [],
   "source": [
    "items_by_region = [(\"B11 4BW\", \"Salbutamol_Inha 100mcg (200 D) CFF\", 0.0310589063)] * 100\n",
    "items_by_region = results"
   ]
  },
  {
   "cell_type": "code",
   "execution_count": null,
   "metadata": {},
   "outputs": [],
   "source": [
    "grader.score.dw__items_by_region(items_by_region)"
   ]
  },
  {
   "cell_type": "markdown",
   "metadata": {},
   "source": [
    "## Question 4: script_anomalies\n",
    "\n",
    "Drug abuse is a source of human and monetary costs in health care. A first step in identifying practitioners that enable drug abuse is to look for practices where commonly abused drugs are prescribed unusually often. Let's try to find practices that prescribe an unusually high amount of opioids. The opioids we'll look for are given in the list below."
   ]
  },
  {
   "cell_type": "code",
   "execution_count": null,
   "metadata": {},
   "outputs": [],
   "source": [
    "opioids = ['morphine', 'oxycodone', 'methadone', 'fentanyl', 'pethidine', 'buprenorphine', 'propoxyphene', 'codeine']\n"
   ]
  },
  {
   "cell_type": "markdown",
   "metadata": {},
   "source": [
    "These are generic names for drugs, not brand names. Generic drug names can be found using the `'bnf_code'` field in `scripts` along with the `chem` table.. Use the list of opioids provided above along with these fields to make a new field in the `scripts` data that flags whether the row corresponds with a opioid prescription."
   ]
  },
  {
   "cell_type": "code",
   "execution_count": null,
   "metadata": {},
   "outputs": [],
   "source": [
    "chem_mask = chem['NAME'].str.contains('|'.join(opioids),case = False)\n",
    "opioid_codes = chem[chem_mask]['CHEM SUB']\n",
    "scripts['opioids'] = scripts['bnf_code'].isin(opioid_codes).astype(int)\n",
    "scripts.head()"
   ]
  },
  {
   "cell_type": "code",
   "execution_count": null,
   "metadata": {},
   "outputs": [],
   "source": [
    "opioids_per_practice = scripts.groupby('practice')['opioids'].mean()\n",
    "opioids_per_practice.head()"
   ]
  },
  {
   "cell_type": "code",
   "execution_count": null,
   "metadata": {},
   "outputs": [],
   "source": [
    "relative_opioids_per_practice = opioids_per_practice - (scripts['opioids'].mean())\n",
    "relative_opioids_per_practice.head()\n"
   ]
  },
  {
   "cell_type": "code",
   "execution_count": null,
   "metadata": {},
   "outputs": [],
   "source": [
    "unique_practices.head()"
   ]
  },
  {
   "cell_type": "code",
   "execution_count": null,
   "metadata": {},
   "outputs": [],
   "source": [
    "opioids_per_practice = joined.groupby('practice')['opioids'].mean()\n",
    "opioids_per_practice.head()"
   ]
  },
  {
   "cell_type": "code",
   "execution_count": null,
   "metadata": {},
   "outputs": [],
   "source": [
    "\n",
    "relative_opioids_per_practice.head()"
   ]
  },
  {
   "cell_type": "code",
   "execution_count": null,
   "metadata": {},
   "outputs": [],
   "source": [
    "#print(chem.head())\n",
    "#print(scripts.head())\n",
    "is_opioid = chem['NAME']\n",
    "opioids_df = scripts[scripts['bnf_name']=='Morphine']\n",
    "opioids_str = '|'.join(opioids)\n",
    "opioids_str"
   ]
  },
  {
   "cell_type": "code",
   "execution_count": null,
   "metadata": {},
   "outputs": [],
   "source": [
    "script_chem = scripts.merge(chem,how = 'left', left_on = 'bnf_code',right_on='CHEM SUB')\n",
    "op_mask = script_chem['NAME'].str.contains(opioids_str,case = False)\n",
    "op_mask.fillna(False,inplace = True)"
   ]
  },
  {
   "cell_type": "code",
   "execution_count": null,
   "metadata": {},
   "outputs": [],
   "source": [
    "script_chem['opioids'] = op_mask.astype(int)"
   ]
  },
  {
   "cell_type": "markdown",
   "metadata": {},
   "source": [
    "Now for each practice calculate the proportion of its prescriptions containing opioids.\n",
    "\n",
    "**Hint:** Consider the following list: `[0, 1, 1, 0, 0, 0]`. What proportion of the entries are 1s? What is the mean value?"
   ]
  },
  {
   "cell_type": "code",
   "execution_count": null,
   "metadata": {},
   "outputs": [],
   "source": [
    "script_chem.head()"
   ]
  },
  {
   "cell_type": "code",
   "execution_count": null,
   "metadata": {},
   "outputs": [],
   "source": [
    "opioids_per_practice = script_chem.groupby('practice').mean()\n",
    "opioids_per_practice.head()"
   ]
  },
  {
   "cell_type": "code",
   "execution_count": null,
   "metadata": {},
   "outputs": [],
   "source": []
  },
  {
   "cell_type": "markdown",
   "metadata": {},
   "source": [
    "How do these proportions compare to the overall opioid prescription rate? Subtract off the proportion of all prescriptions that are opioids from each practice's proportion."
   ]
  },
  {
   "cell_type": "code",
   "execution_count": null,
   "metadata": {},
   "outputs": [],
   "source": [
    "relative_opioids_per_practice  =opioids_per_practice - (script_chem['opioids'].mean())\n",
    "relative_opioids_per_practice.head()"
   ]
  },
  {
   "cell_type": "markdown",
   "metadata": {},
   "source": [
    "Now that we know the difference between each practice's opioid prescription rate and the overall rate, we can identify which practices prescribe opioids at above average or below average rates. However, are the differences from the overall rate important or just random deviations? In other words, are the differences from the overall rate big or small?\n",
    "\n",
    "To answer this question we have to quantify the difference we would typically expect between a given practice's opioid prescription rate and the overall rate. This quantity is called the **standard error**, and is related to the **standard deviation**, $\\sigma$. The standard error in this case is\n",
    "\n",
    "$$ \\frac{\\sigma}{\\sqrt{n}} $$\n",
    "\n",
    "where $n$ is the number of prescriptions each practice made. Calculate the standard error for each practice. Then divide `relative_opioids_per_practice` by the standard errors. We'll call the final result `opioid_scores`."
   ]
  },
  {
   "cell_type": "code",
   "execution_count": null,
   "metadata": {},
   "outputs": [],
   "source": [
    "standard_error_per_practice = np.sqrt(scripts['opioids'].var() / (scripts['practice'].value_counts()))\n",
    "opioid_scores = relative_opioids_per_practice/standard_error_per_practice\n",
    "opioid_scores.head()"
   ]
  },
  {
   "cell_type": "code",
   "execution_count": 87,
   "metadata": {},
   "outputs": [
    {
     "data": {
      "text/plain": [
       "code\n",
       "A81001           THE DENSHAM SURGERY\n",
       "A81002    QUEENS PARK MEDICAL CENTRE\n",
       "A81003     VICTORIA MEDICAL PRACTICE\n",
       "A81004       BLUEBELL MEDICAL CENTRE\n",
       "A81005            SPRINGWOOD SURGERY\n",
       "Name: name, dtype: object"
      ]
     },
     "execution_count": 87,
     "metadata": {},
     "output_type": "execute_result"
    }
   ],
   "source": [
    "unique_practices = practices.groupby('code')['name'].min()\n",
    "#unique_practices = pd.DataFrame(practices.groupby('code')['name'].min()).reset_index()\n",
    "\n",
    "unique_practices.head()"
   ]
  },
  {
   "cell_type": "code",
   "execution_count": null,
   "metadata": {},
   "outputs": [],
   "source": [
    "top_z_score = opioid_scores.sort_values(ascending=False)[:100]\n",
    "top_z_score = pd.DataFrame(top_z_score.rename('z_score')).reset_index()\n",
    "top_z_score.colums = ['practice','z_score']\n",
    "top_z_score.head()"
   ]
  },
  {
   "cell_type": "code",
   "execution_count": null,
   "metadata": {},
   "outputs": [],
   "source": [
    "results = top_z_score.merge(unique_practices,how='left',left_on ='index',right_on='code')\n",
    "results.head()"
   ]
  },
  {
   "cell_type": "code",
   "execution_count": null,
   "metadata": {},
   "outputs": [],
   "source": [
    "#scripts.head()\n",
    "script_size = pd.DataFrame(scripts.groupby('practice').size().rename('script_sizes')).reset_index()\n",
    "script_size.head()"
   ]
  },
  {
   "cell_type": "code",
   "execution_count": null,
   "metadata": {},
   "outputs": [],
   "source": [
    "results = results.merge(script_size,how='left',left_on='index',right_on='practice')\n",
    "results.head()"
   ]
  },
  {
   "cell_type": "markdown",
   "metadata": {},
   "source": [
    "The quantity we have calculated in `opioid_scores` is called a **z-score**:\n",
    "\n",
    "$$ \\frac{\\bar{X} - \\mu}{\\sqrt{\\sigma^2/n}} $$\n",
    "\n",
    "Here $\\bar{X}$ corresponds with the proportion for each practice, $\\mu$ corresponds with the proportion across all practices, $\\sigma^2$ corresponds with the variance of the proportion across all practices, and $n$ is the number of prescriptions made by each practice. Notice $\\bar{X}$ and $n$ will be different for each practice, while $\\mu$ and $\\sigma$ are determined across all prescriptions, and so are the same for every z-score. The z-score is a useful statistical tool used for hypothesis testing, finding outliers, and comparing data about different types of objects or events.\n",
    "\n",
    "Now that we've calculated this statistic, take the 100 practices with the largest z-score. Return your result as a list of tuples in the form `(practice_name, z-score, number_of_scripts)`. Sort your tuples by z-score in descending order. Note that some practice codes will correspond with multiple names. In this case, use the first match when sorting names alphabetically."
   ]
  },
  {
   "cell_type": "code",
   "execution_count": null,
   "metadata": {},
   "outputs": [],
   "source": [
    "#anomalies = [(\"NATIONAL ENHANCED SERVICE\", 11.6958178629, 7)] * 100\n",
    "anomalies = list(zip(results.name,results.z_score,results.script_sizes))"
   ]
  },
  {
   "cell_type": "code",
   "execution_count": null,
   "metadata": {},
   "outputs": [],
   "source": [
    "grader.score.dw__script_anomalies(anomalies)"
   ]
  },
  {
   "cell_type": "markdown",
   "metadata": {},
   "source": [
    "## Question 5: script_growth\n",
    "\n",
    "Another way to identify anomalies is by comparing current data to historical data. In the case of identifying sites of drug abuse, we might compare a practice's current rate of opioid prescription to their rate 5 or 10 years ago. Unless the nature of the practice has changed, the profile of drugs they prescribe should be relatively stable. We might also want to identify trends through time for business reasons, identifying drugs that are gaining market share. That's what we'll do in this question.\n",
    "\n",
    "We'll load in beneficiary data from 6 months earlier, June 2016, and calculate the percent growth in prescription rate from June 2016 to January 2017 for each `bnf_name`. We'll return the 50 items with largest growth and the 50 items with the largest shrinkage (i.e. negative percent growth) as a list of tuples sorted by growth rate in descending order in the format `(script_name, growth_rate, raw_2016_count)`. You'll notice that many of the 50 fastest growing items have low counts of prescriptions in 2016. Filter out any items that were prescribed less than 50 times."
   ]
  },
  {
   "cell_type": "code",
   "execution_count": null,
   "metadata": {},
   "outputs": [],
   "source": [
    "scripts16 = pd.read_csv('./dw-data/201606scripts_sample.csv.gz',compression = 'gzip')\n",
    "scripts16.head()"
   ]
  },
  {
   "cell_type": "code",
   "execution_count": null,
   "metadata": {},
   "outputs": [],
   "source": [
    "script_count = scripts.bnf_name.value_counts().astype(float)\n",
    "script16_count = scripts16.bnf_name.value_counts().astype(float)"
   ]
  },
  {
   "cell_type": "code",
   "execution_count": null,
   "metadata": {},
   "outputs": [],
   "source": [
    "growth_pct = (script_count / script16_count) - 1\n",
    "#growth.columns = ['bnf_name','growth']"
   ]
  },
  {
   "cell_type": "code",
   "execution_count": null,
   "metadata": {},
   "outputs": [],
   "source": [
    "#top = growth_pct.sort_values(ascending=False).dropna()[:50]\n",
    "#bottom = growth_pct.sort_values().dropna()[:50]\n",
    "#top_growth = pd.concat([top,bottom])"
   ]
  },
  {
   "cell_type": "code",
   "execution_count": null,
   "metadata": {},
   "outputs": [],
   "source": [
    "growth = pd.concat([growth_pct.rename('pct_growth'),scripts16.bnf_name.value_counts().rename('count')],axis =1).dropna()\n",
    "filter_growth = growth[growth['count']>=50].sort_values('pct_growth',ascending=False)\n",
    "filter_growth.tail()"
   ]
  },
  {
   "cell_type": "code",
   "execution_count": null,
   "metadata": {},
   "outputs": [],
   "source": [
    "extreme_growth = pd.concat([filter_growth.head(50),filter_growth.tail(50)]).reset_index()\n",
    "extreme_growth.head()"
   ]
  },
  {
   "cell_type": "code",
   "execution_count": null,
   "metadata": {},
   "outputs": [],
   "source": [
    "script_growth = list(zip(extreme_growth['index'],extreme_growth['pct_growth'],extreme_growth['count']))\n",
    "#extreme_growth['index']"
   ]
  },
  {
   "cell_type": "code",
   "execution_count": null,
   "metadata": {},
   "outputs": [],
   "source": [
    "script_growth = [(\"Butec_Transdermal Patch 5mcg\\/hr\", 3.4677419355, 62.0)] * 100"
   ]
  },
  {
   "cell_type": "code",
   "execution_count": null,
   "metadata": {},
   "outputs": [],
   "source": [
    "grader.score.dw__script_growth(script_growth)"
   ]
  },
  {
   "cell_type": "markdown",
   "metadata": {},
   "source": [
    "## Question 6: rare_scripts\n",
    "\n",
    "Does a practice's prescription costs originate from routine care or from reliance on rarely prescribed treatments? Commonplace treatments can carry lower costs than rare treatments because of efficiencies in large-scale production. While some specialist practices can't help but avoid prescribing rare medicines because there are no alternatives, some practices may be prescribing a unnecessary amount of brand-name products when generics are available. Let's identify practices whose costs disproportionately originate from rarely prescribed items.\n",
    "\n",
    "First we have to identify which `'bnf_code'` are rare. To do this, find the probability $p$ of a prescription having a particular `'bnf_code'` if the `'bnf_code'` was randomly chosen from the unique options in the beneficiary data. We will call a `'bnf_code'` rare if it is prescribed at a rate less than $0.1p$."
   ]
  },
  {
   "cell_type": "code",
   "execution_count": 40,
   "metadata": {},
   "outputs": [
    {
     "data": {
      "text/html": [
       "<div>\n",
       "<style>\n",
       "    .dataframe thead tr:only-child th {\n",
       "        text-align: right;\n",
       "    }\n",
       "\n",
       "    .dataframe thead th {\n",
       "        text-align: left;\n",
       "    }\n",
       "\n",
       "    .dataframe tbody tr th {\n",
       "        vertical-align: top;\n",
       "    }\n",
       "</style>\n",
       "<table border=\"1\" class=\"dataframe\">\n",
       "  <thead>\n",
       "    <tr style=\"text-align: right;\">\n",
       "      <th></th>\n",
       "      <th>practice</th>\n",
       "      <th>bnf_code</th>\n",
       "      <th>bnf_name</th>\n",
       "      <th>items</th>\n",
       "      <th>nic</th>\n",
       "      <th>act_cost</th>\n",
       "      <th>quantity</th>\n",
       "      <th>rare</th>\n",
       "    </tr>\n",
       "  </thead>\n",
       "  <tbody>\n",
       "    <tr>\n",
       "      <th>0</th>\n",
       "      <td>N85639</td>\n",
       "      <td>0106020C0</td>\n",
       "      <td>Bisacodyl_Tab E/C 5mg</td>\n",
       "      <td>1</td>\n",
       "      <td>0.39</td>\n",
       "      <td>0.47</td>\n",
       "      <td>12</td>\n",
       "      <td>False</td>\n",
       "    </tr>\n",
       "    <tr>\n",
       "      <th>1</th>\n",
       "      <td>N85639</td>\n",
       "      <td>0106040M0</td>\n",
       "      <td>Movicol Plain_Paed Pdr Sach 6.9g</td>\n",
       "      <td>1</td>\n",
       "      <td>4.38</td>\n",
       "      <td>4.07</td>\n",
       "      <td>30</td>\n",
       "      <td>False</td>\n",
       "    </tr>\n",
       "    <tr>\n",
       "      <th>2</th>\n",
       "      <td>N85639</td>\n",
       "      <td>0301011R0</td>\n",
       "      <td>Salbutamol_Inha 100mcg (200 D) CFF</td>\n",
       "      <td>1</td>\n",
       "      <td>1.50</td>\n",
       "      <td>1.40</td>\n",
       "      <td>1</td>\n",
       "      <td>False</td>\n",
       "    </tr>\n",
       "    <tr>\n",
       "      <th>3</th>\n",
       "      <td>N85639</td>\n",
       "      <td>0304010G0</td>\n",
       "      <td>Chlorphenamine Mal_Oral Soln 2mg/5ml</td>\n",
       "      <td>1</td>\n",
       "      <td>2.62</td>\n",
       "      <td>2.44</td>\n",
       "      <td>150</td>\n",
       "      <td>False</td>\n",
       "    </tr>\n",
       "    <tr>\n",
       "      <th>4</th>\n",
       "      <td>N85639</td>\n",
       "      <td>0401020K0</td>\n",
       "      <td>Diazepam_Tab 2mg</td>\n",
       "      <td>1</td>\n",
       "      <td>0.16</td>\n",
       "      <td>0.26</td>\n",
       "      <td>6</td>\n",
       "      <td>False</td>\n",
       "    </tr>\n",
       "  </tbody>\n",
       "</table>\n",
       "</div>"
      ],
      "text/plain": [
       "  practice   bnf_code                              bnf_name  items   nic  \\\n",
       "0   N85639  0106020C0                 Bisacodyl_Tab E/C 5mg      1  0.39   \n",
       "1   N85639  0106040M0      Movicol Plain_Paed Pdr Sach 6.9g      1  4.38   \n",
       "2   N85639  0301011R0    Salbutamol_Inha 100mcg (200 D) CFF      1  1.50   \n",
       "3   N85639  0304010G0  Chlorphenamine Mal_Oral Soln 2mg/5ml      1  2.62   \n",
       "4   N85639  0401020K0                      Diazepam_Tab 2mg      1  0.16   \n",
       "\n",
       "   act_cost  quantity   rare  \n",
       "0      0.47        12  False  \n",
       "1      4.07        30  False  \n",
       "2      1.40         1  False  \n",
       "3      2.44       150  False  \n",
       "4      0.26         6  False  "
      ]
     },
     "execution_count": 40,
     "metadata": {},
     "output_type": "execute_result"
    }
   ],
   "source": [
    "p = 1.0/scripts['bnf_code'].nunique()\n",
    "rates = scripts['bnf_code'].value_counts() / scripts['bnf_code'].count()\n",
    "mask = rates < 0.1*p\n",
    "rare_codes = rates[mask].index\n",
    "scripts['rare'] = scripts['bnf_code'].isin(rare_codes)\n",
    "scripts.head()"
   ]
  },
  {
   "cell_type": "code",
   "execution_count": 41,
   "metadata": {},
   "outputs": [],
   "source": [
    "rare_cost = scripts[scripts['rare']].groupby('practice')['act_cost'].sum()\n",
    "total_cost = scripts.groupby('practice')['act_cost'].sum()"
   ]
  },
  {
   "cell_type": "markdown",
   "metadata": {},
   "source": [
    "Now for each practice, calculate the proportion of costs that originate from prescription of rare treatments (i.e. rare `'bnf_code'`). Use the `'act_cost'` field for this calculation."
   ]
  },
  {
   "cell_type": "code",
   "execution_count": 42,
   "metadata": {},
   "outputs": [
    {
     "data": {
      "text/plain": [
       "practice\n",
       "A81005    0.012017\n",
       "A81007    0.008381\n",
       "A81011    0.005116\n",
       "A81012    0.013747\n",
       "A81017    0.007359\n",
       "Name: act_cost, dtype: float64"
      ]
     },
     "execution_count": 42,
     "metadata": {},
     "output_type": "execute_result"
    }
   ],
   "source": [
    "rare_cost_prop = (rare_cost / total_cost).fillna(0)\n",
    "rare_cost_prop.head()"
   ]
  },
  {
   "cell_type": "code",
   "execution_count": 33,
   "metadata": {},
   "outputs": [],
   "source": []
  },
  {
   "cell_type": "markdown",
   "metadata": {},
   "source": [
    "Now we will calculate a z-score for each practice based on this proportion.\n",
    "First take the difference of `rare_cost_prop` and the proportion of costs originating from rare treatments across all practices."
   ]
  },
  {
   "cell_type": "code",
   "execution_count": 101,
   "metadata": {},
   "outputs": [
    {
     "data": {
      "text/plain": [
       "practice\n",
       "A81005   -0.003946\n",
       "A81007   -0.007582\n",
       "A81011   -0.010847\n",
       "A81012   -0.002216\n",
       "A81017   -0.008604\n",
       "Name: act_cost, dtype: float64"
      ]
     },
     "execution_count": 101,
     "metadata": {},
     "output_type": "execute_result"
    }
   ],
   "source": [
    "relative_rare_cost_prop = (rare_cost_prop - (scripts[scripts['rare']]['act_cost'].sum() / scripts['act_cost'].sum()))\n",
    "relative_rare_cost_prop.head()"
   ]
  },
  {
   "cell_type": "markdown",
   "metadata": {},
   "source": [
    "Now we will estimate the standard errors (i.e. the denominator of the z-score) by simply taking the standard deviation of this difference."
   ]
  },
  {
   "cell_type": "code",
   "execution_count": 56,
   "metadata": {},
   "outputs": [
    {
     "data": {
      "text/plain": [
       "0.06050888706745139"
      ]
     },
     "execution_count": 56,
     "metadata": {},
     "output_type": "execute_result"
    }
   ],
   "source": [
    "standard_errors = relative_rare_cost_prop.std()\n",
    "standard_errors"
   ]
  },
  {
   "cell_type": "markdown",
   "metadata": {},
   "source": [
    "Finally compute the z-scores. Return the practices with the top 100 z-scores in the form `(post_code, practice_name, z-score)`. Note that some practice codes will correspond with multiple names. In this case, use the first match when sorting names alphabetically."
   ]
  },
  {
   "cell_type": "code",
   "execution_count": 102,
   "metadata": {},
   "outputs": [],
   "source": [
    "rare_scores = (relative_rare_cost_prop / standard_errors).reset_index()\n",
    "#top_scores =(pd.DataFrame(pd.concat([rare_scores.sort_values(ascending=False).head(50),\n",
    "           # rare_scores.sort_values(ascending=False).tail(50)])).reset_index())"
   ]
  },
  {
   "cell_type": "code",
   "execution_count": 108,
   "metadata": {},
   "outputs": [
    {
     "data": {
      "text/html": [
       "<div>\n",
       "<style>\n",
       "    .dataframe thead tr:only-child th {\n",
       "        text-align: right;\n",
       "    }\n",
       "\n",
       "    .dataframe thead th {\n",
       "        text-align: left;\n",
       "    }\n",
       "\n",
       "    .dataframe tbody tr th {\n",
       "        vertical-align: top;\n",
       "    }\n",
       "</style>\n",
       "<table border=\"1\" class=\"dataframe\">\n",
       "  <thead>\n",
       "    <tr style=\"text-align: right;\">\n",
       "      <th></th>\n",
       "      <th>practice</th>\n",
       "      <th>act_cost</th>\n",
       "      <th>name</th>\n",
       "    </tr>\n",
       "  </thead>\n",
       "  <tbody>\n",
       "    <tr>\n",
       "      <th>765</th>\n",
       "      <td>Y03472</td>\n",
       "      <td>16.262687</td>\n",
       "      <td>CONSULTANT DIABETES TEAM</td>\n",
       "    </tr>\n",
       "    <tr>\n",
       "      <th>831</th>\n",
       "      <td>Y05320</td>\n",
       "      <td>15.128648</td>\n",
       "      <td>DMC COMMUNITY DERMATOLOGY RBWF</td>\n",
       "    </tr>\n",
       "    <tr>\n",
       "      <th>793</th>\n",
       "      <td>Y04404</td>\n",
       "      <td>7.542139</td>\n",
       "      <td>OUTPATIENTS JUBILEE HEALTH CENTRE</td>\n",
       "    </tr>\n",
       "    <tr>\n",
       "      <th>766</th>\n",
       "      <td>Y03484</td>\n",
       "      <td>7.287222</td>\n",
       "      <td>DMC COMMUNITY DERMATOLOGY CLINIC</td>\n",
       "    </tr>\n",
       "    <tr>\n",
       "      <th>794</th>\n",
       "      <td>Y04424</td>\n",
       "      <td>6.838614</td>\n",
       "      <td>DMC HEALTHCARE</td>\n",
       "    </tr>\n",
       "  </tbody>\n",
       "</table>\n",
       "</div>"
      ],
      "text/plain": [
       "    practice   act_cost                               name\n",
       "765   Y03472  16.262687           CONSULTANT DIABETES TEAM\n",
       "831   Y05320  15.128648     DMC COMMUNITY DERMATOLOGY RBWF\n",
       "793   Y04404   7.542139  OUTPATIENTS JUBILEE HEALTH CENTRE\n",
       "766   Y03484   7.287222   DMC COMMUNITY DERMATOLOGY CLINIC\n",
       "794   Y04424   6.838614                     DMC HEALTHCARE"
      ]
     },
     "execution_count": 108,
     "metadata": {},
     "output_type": "execute_result"
    }
   ],
   "source": [
    "unique_practices = practices.groupby('code')['name'].min()\n",
    "rare_scores['name'] = rare_scores.practice.apply(lambda x: unique_practices[x])\n",
    "rare_scores.sort_values('act_cost',ascending=False,inplace=True)\n",
    "rare_scores.head()"
   ]
  },
  {
   "cell_type": "code",
   "execution_count": 109,
   "metadata": {},
   "outputs": [],
   "source": [
    "top_scores = rare_scores.head(100)\n",
    "#merged_rare_scripts = top_scores.merge(unique_practices[['code','name']],how='left',left_on='practice',right_on='code').dropna()\n",
    "#merged_rare_scripts.head()"
   ]
  },
  {
   "cell_type": "code",
   "execution_count": 110,
   "metadata": {},
   "outputs": [],
   "source": [
    "rare_scripts = list(zip(top_scores.practice,top_scores.name,top_scores.act_cost))"
   ]
  },
  {
   "cell_type": "code",
   "execution_count": null,
   "metadata": {},
   "outputs": [],
   "source": [
    "rare_scripts = [(\"Y03472\", \"CONSULTANT DIABETES TEAM\", 16.2626871247)] * 100"
   ]
  },
  {
   "cell_type": "code",
   "execution_count": 112,
   "metadata": {},
   "outputs": [
    {
     "name": "stdout",
     "output_type": "stream",
     "text": [
      "==================\n",
      "Your score:  1.0\n",
      "==================\n"
     ]
    }
   ],
   "source": [
    "grader.score.dw__rare_scripts(rare_scripts)"
   ]
  },
  {
   "cell_type": "markdown",
   "metadata": {},
   "source": [
    "*Copyright &copy; 2019 The Data Incubator.  All rights reserved.*"
   ]
  }
 ],
 "metadata": {
  "kernelspec": {
   "display_name": "Python 3",
   "language": "python",
   "name": "python3"
  },
  "language_info": {
   "codemirror_mode": {
    "name": "ipython",
    "version": 3
   },
   "file_extension": ".py",
   "mimetype": "text/x-python",
   "name": "python",
   "nbconvert_exporter": "python",
   "pygments_lexer": "ipython3",
   "version": "3.7.3"
  },
  "nbclean": true
 },
 "nbformat": 4,
 "nbformat_minor": 1
}
